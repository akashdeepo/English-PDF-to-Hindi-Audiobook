{
 "cells": [
  {
   "cell_type": "code",
   "execution_count": 21,
   "metadata": {},
   "outputs": [
    {
     "name": "stdout",
     "output_type": "stream",
     "text": [
      "COSMOS - CARL SAGAN \n",
      "INTRODUCTION  \n",
      " \n",
      " \n",
      "The time will come when diligent research over long periods will bring to light things  \n",
      "which now lie hidden. A single lifetime, even though entirely devoted to the sky, would not  \n",
      "be enough for the investigation of so vast a subject . . . And so this knowledge will be  \n",
      "unfolded only through long successive ages. There will come a time when our descendants  \n",
      "will be amazed that we did not know things that are so plain to them . . . Many discoveries  \n",
      "are reserved for ages still to come, when memory of us will have been effaced. Our  \n",
      "universe is a sorry little affair unless it has in it something for every age to investigate . . .  \n",
      "Nature does not reveal her mysteries once and for all.  \n",
      " \n",
      "- Seneca, Natural Questions,  \n",
      "Book 7, first century  \n",
      " \n",
      "In ancient times, in everyday speech and custom, the most mundane happenings were  \n",
      "connected with the grandest cosmic events. A charming example is an incantation against  \n",
      "the worm which the Assyrians of 1000 B.C. imagined to cause toothaches. It begins with  \n",
      "the origin of the universe and ends with a cure for toothache:  \n",
      " \n",
      "After Anu had created the heaven,  \n",
      " \n",
      "And the heaven had created the earth,  \n",
      " \n",
      "And the earth had created the rivers,  \n",
      " \n"
     ]
    },
    {
     "ename": "AttributeError",
     "evalue": "'NoneType' object has no attribute 'group'",
     "output_type": "error",
     "traceback": [
      "\u001b[1;31m---------------------------------------------------------------------------\u001b[0m",
      "\u001b[1;31mAttributeError\u001b[0m                            Traceback (most recent call last)",
      "\u001b[1;32mc:\\Users\\User\\Desktop\\Translator\\tests.ipynb Cell 1'\u001b[0m in \u001b[0;36m<cell line: 20>\u001b[1;34m()\u001b[0m\n\u001b[0;32m     <a href='vscode-notebook-cell:/c%3A/Users/User/Desktop/Translator/tests.ipynb#ch0000000?line=25'>26</a>\u001b[0m \u001b[39m# creating a speaker for English listeners\u001b[39;00m\n\u001b[0;32m     <a href='vscode-notebook-cell:/c%3A/Users/User/Desktop/Translator/tests.ipynb#ch0000000?line=26'>27</a>\u001b[0m \u001b[39m# speaker = pyttsx3.init()\u001b[39;00m\n\u001b[0;32m     <a href='vscode-notebook-cell:/c%3A/Users/User/Desktop/Translator/tests.ipynb#ch0000000?line=27'>28</a>\u001b[0m \u001b[39m# speaker.say(text)\u001b[39;00m\n\u001b[0;32m     <a href='vscode-notebook-cell:/c%3A/Users/User/Desktop/Translator/tests.ipynb#ch0000000?line=28'>29</a>\u001b[0m \u001b[39m# speaker.runAndWait()\u001b[39;00m\n\u001b[0;32m     <a href='vscode-notebook-cell:/c%3A/Users/User/Desktop/Translator/tests.ipynb#ch0000000?line=29'>30</a>\u001b[0m \n\u001b[0;32m     <a href='vscode-notebook-cell:/c%3A/Users/User/Desktop/Translator/tests.ipynb#ch0000000?line=30'>31</a>\u001b[0m \u001b[39m# Convert text to hindi\u001b[39;00m\n\u001b[0;32m     <a href='vscode-notebook-cell:/c%3A/Users/User/Desktop/Translator/tests.ipynb#ch0000000?line=32'>33</a>\u001b[0m translator\u001b[39m=\u001b[39m Translator()\n\u001b[1;32m---> <a href='vscode-notebook-cell:/c%3A/Users/User/Desktop/Translator/tests.ipynb#ch0000000?line=33'>34</a>\u001b[0m translate_text\u001b[39m=\u001b[39m translator\u001b[39m.\u001b[39;49mtranslate(text, dest\u001b[39m=\u001b[39;49m\u001b[39m'\u001b[39;49m\u001b[39mhi\u001b[39;49m\u001b[39m'\u001b[39;49m)\n\u001b[0;32m     <a href='vscode-notebook-cell:/c%3A/Users/User/Desktop/Translator/tests.ipynb#ch0000000?line=34'>35</a>\u001b[0m \u001b[39mprint\u001b[39m(\u001b[39m'\u001b[39m\u001b[39mHindi Translation : \u001b[39m\u001b[39m'\u001b[39m,translate_text)\n\u001b[0;32m     <a href='vscode-notebook-cell:/c%3A/Users/User/Desktop/Translator/tests.ipynb#ch0000000?line=36'>37</a>\u001b[0m \u001b[39m#  convert text to Audio file\u001b[39;00m\n",
      "File \u001b[1;32mc:\\Users\\User\\AppData\\Local\\Programs\\Python\\Python310\\lib\\site-packages\\googletrans\\client.py:182\u001b[0m, in \u001b[0;36mTranslator.translate\u001b[1;34m(self, text, dest, src, **kwargs)\u001b[0m\n\u001b[0;32m    <a href='file:///c%3A/Users/User/AppData/Local/Programs/Python/Python310/lib/site-packages/googletrans/client.py?line=178'>179</a>\u001b[0m     \u001b[39mreturn\u001b[39;00m result\n\u001b[0;32m    <a href='file:///c%3A/Users/User/AppData/Local/Programs/Python/Python310/lib/site-packages/googletrans/client.py?line=180'>181</a>\u001b[0m origin \u001b[39m=\u001b[39m text\n\u001b[1;32m--> <a href='file:///c%3A/Users/User/AppData/Local/Programs/Python/Python310/lib/site-packages/googletrans/client.py?line=181'>182</a>\u001b[0m data \u001b[39m=\u001b[39m \u001b[39mself\u001b[39;49m\u001b[39m.\u001b[39;49m_translate(text, dest, src, kwargs)\n\u001b[0;32m    <a href='file:///c%3A/Users/User/AppData/Local/Programs/Python/Python310/lib/site-packages/googletrans/client.py?line=183'>184</a>\u001b[0m \u001b[39m# this code will be updated when the format is changed.\u001b[39;00m\n\u001b[0;32m    <a href='file:///c%3A/Users/User/AppData/Local/Programs/Python/Python310/lib/site-packages/googletrans/client.py?line=184'>185</a>\u001b[0m translated \u001b[39m=\u001b[39m \u001b[39m'\u001b[39m\u001b[39m'\u001b[39m\u001b[39m.\u001b[39mjoin([d[\u001b[39m0\u001b[39m] \u001b[39mif\u001b[39;00m d[\u001b[39m0\u001b[39m] \u001b[39melse\u001b[39;00m \u001b[39m'\u001b[39m\u001b[39m'\u001b[39m \u001b[39mfor\u001b[39;00m d \u001b[39min\u001b[39;00m data[\u001b[39m0\u001b[39m]])\n",
      "File \u001b[1;32mc:\\Users\\User\\AppData\\Local\\Programs\\Python\\Python310\\lib\\site-packages\\googletrans\\client.py:78\u001b[0m, in \u001b[0;36mTranslator._translate\u001b[1;34m(self, text, dest, src, override)\u001b[0m\n\u001b[0;32m     <a href='file:///c%3A/Users/User/AppData/Local/Programs/Python/Python310/lib/site-packages/googletrans/client.py?line=76'>77</a>\u001b[0m \u001b[39mdef\u001b[39;00m \u001b[39m_translate\u001b[39m(\u001b[39mself\u001b[39m, text, dest, src, override):\n\u001b[1;32m---> <a href='file:///c%3A/Users/User/AppData/Local/Programs/Python/Python310/lib/site-packages/googletrans/client.py?line=77'>78</a>\u001b[0m     token \u001b[39m=\u001b[39m \u001b[39mself\u001b[39;49m\u001b[39m.\u001b[39;49mtoken_acquirer\u001b[39m.\u001b[39;49mdo(text)\n\u001b[0;32m     <a href='file:///c%3A/Users/User/AppData/Local/Programs/Python/Python310/lib/site-packages/googletrans/client.py?line=78'>79</a>\u001b[0m     params \u001b[39m=\u001b[39m utils\u001b[39m.\u001b[39mbuild_params(query\u001b[39m=\u001b[39mtext, src\u001b[39m=\u001b[39msrc, dest\u001b[39m=\u001b[39mdest,\n\u001b[0;32m     <a href='file:///c%3A/Users/User/AppData/Local/Programs/Python/Python310/lib/site-packages/googletrans/client.py?line=79'>80</a>\u001b[0m                                 token\u001b[39m=\u001b[39mtoken, override\u001b[39m=\u001b[39moverride)\n\u001b[0;32m     <a href='file:///c%3A/Users/User/AppData/Local/Programs/Python/Python310/lib/site-packages/googletrans/client.py?line=81'>82</a>\u001b[0m     url \u001b[39m=\u001b[39m urls\u001b[39m.\u001b[39mTRANSLATE\u001b[39m.\u001b[39mformat(host\u001b[39m=\u001b[39m\u001b[39mself\u001b[39m\u001b[39m.\u001b[39m_pick_service_url())\n",
      "File \u001b[1;32mc:\\Users\\User\\AppData\\Local\\Programs\\Python\\Python310\\lib\\site-packages\\googletrans\\gtoken.py:194\u001b[0m, in \u001b[0;36mTokenAcquirer.do\u001b[1;34m(self, text)\u001b[0m\n\u001b[0;32m    <a href='file:///c%3A/Users/User/AppData/Local/Programs/Python/Python310/lib/site-packages/googletrans/gtoken.py?line=192'>193</a>\u001b[0m \u001b[39mdef\u001b[39;00m \u001b[39mdo\u001b[39m(\u001b[39mself\u001b[39m, text):\n\u001b[1;32m--> <a href='file:///c%3A/Users/User/AppData/Local/Programs/Python/Python310/lib/site-packages/googletrans/gtoken.py?line=193'>194</a>\u001b[0m     \u001b[39mself\u001b[39;49m\u001b[39m.\u001b[39;49m_update()\n\u001b[0;32m    <a href='file:///c%3A/Users/User/AppData/Local/Programs/Python/Python310/lib/site-packages/googletrans/gtoken.py?line=194'>195</a>\u001b[0m     tk \u001b[39m=\u001b[39m \u001b[39mself\u001b[39m\u001b[39m.\u001b[39macquire(text)\n\u001b[0;32m    <a href='file:///c%3A/Users/User/AppData/Local/Programs/Python/Python310/lib/site-packages/googletrans/gtoken.py?line=195'>196</a>\u001b[0m     \u001b[39mreturn\u001b[39;00m tk\n",
      "File \u001b[1;32mc:\\Users\\User\\AppData\\Local\\Programs\\Python\\Python310\\lib\\site-packages\\googletrans\\gtoken.py:62\u001b[0m, in \u001b[0;36mTokenAcquirer._update\u001b[1;34m(self)\u001b[0m\n\u001b[0;32m     <a href='file:///c%3A/Users/User/AppData/Local/Programs/Python/Python310/lib/site-packages/googletrans/gtoken.py?line=58'>59</a>\u001b[0m     \u001b[39mreturn\u001b[39;00m\n\u001b[0;32m     <a href='file:///c%3A/Users/User/AppData/Local/Programs/Python/Python310/lib/site-packages/googletrans/gtoken.py?line=60'>61</a>\u001b[0m \u001b[39m# this will be the same as python code after stripping out a reserved word 'var'\u001b[39;00m\n\u001b[1;32m---> <a href='file:///c%3A/Users/User/AppData/Local/Programs/Python/Python310/lib/site-packages/googletrans/gtoken.py?line=61'>62</a>\u001b[0m code \u001b[39m=\u001b[39m \u001b[39mself\u001b[39;49m\u001b[39m.\u001b[39;49mRE_TKK\u001b[39m.\u001b[39;49msearch(r\u001b[39m.\u001b[39;49mtext)\u001b[39m.\u001b[39;49mgroup(\u001b[39m1\u001b[39m)\u001b[39m.\u001b[39mreplace(\u001b[39m'\u001b[39m\u001b[39mvar \u001b[39m\u001b[39m'\u001b[39m, \u001b[39m'\u001b[39m\u001b[39m'\u001b[39m)\n\u001b[0;32m     <a href='file:///c%3A/Users/User/AppData/Local/Programs/Python/Python310/lib/site-packages/googletrans/gtoken.py?line=62'>63</a>\u001b[0m \u001b[39m# unescape special ascii characters such like a \\x3d(=)\u001b[39;00m\n\u001b[0;32m     <a href='file:///c%3A/Users/User/AppData/Local/Programs/Python/Python310/lib/site-packages/googletrans/gtoken.py?line=63'>64</a>\u001b[0m code \u001b[39m=\u001b[39m code\u001b[39m.\u001b[39mencode()\u001b[39m.\u001b[39mdecode(\u001b[39m'\u001b[39m\u001b[39municode-escape\u001b[39m\u001b[39m'\u001b[39m)\n",
      "\u001b[1;31mAttributeError\u001b[0m: 'NoneType' object has no attribute 'group'"
     ]
    }
   ],
   "source": [
    "import pyttsx3\n",
    "import pdfplumber\n",
    "import PyPDF2\n",
    "from textblob import TextBlob\n",
    "import os\n",
    "from gtts import gTTS\n",
    "import googletrans\n",
    "from googletrans import Translator\n",
    "\n",
    "file = 'sample.pdf'\n",
    "\n",
    "pdfFileObj = open(file,'rb')\n",
    "\n",
    "pdfReader = PyPDF2.PdfFileReader(pdfFileObj)\n",
    "\n",
    "pages = pdfReader.numPages\n",
    "\n",
    "#pdf plumber object and loop through all the pages\n",
    "\n",
    "with pdfplumber.open(file) as pdf:\n",
    "    for i in range(0,pages):\n",
    "        page = pdf.pages[i]\n",
    "        text = page.extract_text()\n",
    "        print(text)\n",
    "\n",
    "        # creating a speaker for English listeners\n",
    "        # speaker = pyttsx3.init()\n",
    "        # speaker.say(text)\n",
    "        # speaker.runAndWait()\n",
    "\n",
    "        # Convert text to hindi\n",
    "\n",
    "        translator= Translator()\n",
    "        translate_text= translator.translate(text, dest='hi')\n",
    "        print('Hindi Translation : ',translate_text)\n",
    "\n",
    "        #  convert text to Audio file\n",
    "        outPut=gTTS(text=str(translate_text),lang='hi',slow=False)\n",
    "\n",
    "        # Save Audio file\n",
    "        outPut.save('AudioBook.mp3')\n",
    "\n",
    "        # play audio \n",
    "        os.system('AudioBook.mp3')"
   ]
  }
 ],
 "metadata": {
  "interpreter": {
   "hash": "afb734500600fd355917ca529030176ea0ca205570884b88f2f6f7d791fd3fbe"
  },
  "kernelspec": {
   "display_name": "Python 3.10.4 64-bit",
   "language": "python",
   "name": "python3"
  },
  "language_info": {
   "codemirror_mode": {
    "name": "ipython",
    "version": 3
   },
   "file_extension": ".py",
   "mimetype": "text/x-python",
   "name": "python",
   "nbconvert_exporter": "python",
   "pygments_lexer": "ipython3",
   "version": "3.10.4"
  },
  "orig_nbformat": 4
 },
 "nbformat": 4,
 "nbformat_minor": 2
}
